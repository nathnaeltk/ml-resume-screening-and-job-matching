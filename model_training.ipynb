{
 "cells": [
  {
   "cell_type": "markdown",
   "id": "434d5799",
   "metadata": {
    "papermill": {
     "duration": 0.010723,
     "end_time": "2022-10-07T21:48:36.453342",
     "exception": false,
     "start_time": "2022-10-07T21:48:36.442619",
     "status": "completed"
    },
    "tags": []
   },
   "source": [
    "# importing all libraries"
   ]
  },
  {
   "cell_type": "code",
   "execution_count": null,
   "id": "53abebff",
   "metadata": {
    "_cell_guid": "b1076dfc-b9ad-4769-8c92-a6c4dae69d19",
    "_uuid": "8f2839f25d086af736a60e9eeb907d3b93b6e0e5",
    "execution": {
     "iopub.execute_input": "2022-10-07T21:48:36.473391Z",
     "iopub.status.busy": "2022-10-07T21:48:36.472997Z",
     "iopub.status.idle": "2022-10-07T21:48:42.846050Z",
     "shell.execute_reply": "2022-10-07T21:48:42.845062Z"
    },
    "papermill": {
     "duration": 6.385666,
     "end_time": "2022-10-07T21:48:42.848539",
     "exception": false,
     "start_time": "2022-10-07T21:48:36.462873",
     "status": "completed"
    },
    "tags": []
   },
   "outputs": [],
   "source": [
    "import os\n",
    "import re\n",
    "import sys\n",
    "import nltk\n",
    "import itertools\n",
    "import numpy as np \n",
    "import pandas as pd \n",
    "import seaborn as sns\n",
    "from sklearn import tree\n",
    "from sklearn.svm import SVC\n",
    "from joblib import dump, load\n",
    "from wordcloud import WordCloud\n",
    "import matplotlib.pyplot as plt\n",
    "from nltk.corpus import stopwords\n",
    "from nltk.stem import PorterStemmer\n",
    "from nltk.stem import WordNetLemmatizer\n",
    "from keras.models import Sequential,Model\n",
    "from sklearn.metrics import accuracy_score\n",
    "from sklearn.metrics import confusion_matrix\n",
    "from sklearn.naive_bayes import MultinomialNB\n",
    "from sklearn.preprocessing import LabelEncoder\n",
    "from keras.utils.np_utils import to_categorical\n",
    "from sklearn.ensemble import AdaBoostClassifier\n",
    "from sklearn.neighbors import KNeighborsClassifier\n",
    "from sklearn.ensemble import RandomForestClassifier\n",
    "from sklearn.model_selection import train_test_split\n",
    "from sklearn.feature_extraction.text import CountVectorizer\n",
    "from keras.layers import Dense,LSTM, SpatialDropout1D, Embedding"
   ]
  },
  {
   "cell_type": "markdown",
   "id": "2de4c10c",
   "metadata": {
    "papermill": {
     "duration": 0.010264,
     "end_time": "2022-10-07T21:48:42.868088",
     "exception": false,
     "start_time": "2022-10-07T21:48:42.857824",
     "status": "completed"
    },
    "tags": []
   },
   "source": [
    "# Reading the Dataset"
   ]
  },
  {
   "cell_type": "code",
   "execution_count": null,
   "id": "eba3e1be",
   "metadata": {
    "execution": {
     "iopub.execute_input": "2022-10-07T21:48:42.888074Z",
     "iopub.status.busy": "2022-10-07T21:48:42.886906Z",
     "iopub.status.idle": "2022-10-07T21:48:42.989477Z",
     "shell.execute_reply": "2022-10-07T21:48:42.988635Z"
    },
    "papermill": {
     "duration": 0.114552,
     "end_time": "2022-10-07T21:48:42.991541",
     "exception": false,
     "start_time": "2022-10-07T21:48:42.876989",
     "status": "completed"
    },
    "tags": []
   },
   "outputs": [],
   "source": [
    "df = pd.read_csv(r'path_to_dataset')\n",
    "df"
   ]
  },
  {
   "cell_type": "markdown",
   "id": "d1a425ae",
   "metadata": {
    "papermill": {
     "duration": 0.009111,
     "end_time": "2022-10-07T21:48:43.010240",
     "exception": false,
     "start_time": "2022-10-07T21:48:43.001129",
     "status": "completed"
    },
    "tags": []
   },
   "source": [
    "# List of all Categories"
   ]
  },
  {
   "cell_type": "code",
   "execution_count": null,
   "id": "f77630a5",
   "metadata": {
    "execution": {
     "iopub.execute_input": "2022-10-07T21:48:43.029799Z",
     "iopub.status.busy": "2022-10-07T21:48:43.029495Z",
     "iopub.status.idle": "2022-10-07T21:48:43.043236Z",
     "shell.execute_reply": "2022-10-07T21:48:43.041586Z"
    },
    "papermill": {
     "duration": 0.025757,
     "end_time": "2022-10-07T21:48:43.045215",
     "exception": false,
     "start_time": "2022-10-07T21:48:43.019458",
     "status": "completed"
    },
    "tags": []
   },
   "outputs": [],
   "source": [
    "for i in range(len(df['Category'].unique())):\n",
    "    print(df['Category'].unique()[i])"
   ]
  },
  {
   "attachments": {},
   "cell_type": "markdown",
   "id": "e862f3c7",
   "metadata": {
    "papermill": {
     "duration": 0.01005,
     "end_time": "2022-10-07T21:48:44.022380",
     "exception": false,
     "start_time": "2022-10-07T21:48:44.012330",
     "status": "completed"
    },
    "tags": []
   },
   "source": [
    "# Visualizing most commonly used words in each type of Resumes"
   ]
  },
  {
   "cell_type": "code",
   "execution_count": null,
   "id": "bc104e29",
   "metadata": {
    "execution": {
     "iopub.execute_input": "2022-10-07T21:48:44.043910Z",
     "iopub.status.busy": "2022-10-07T21:48:44.043591Z",
     "iopub.status.idle": "2022-10-07T21:49:16.017941Z",
     "shell.execute_reply": "2022-10-07T21:49:16.017088Z"
    },
    "papermill": {
     "duration": 31.990295,
     "end_time": "2022-10-07T21:49:16.022803",
     "exception": false,
     "start_time": "2022-10-07T21:48:44.032508",
     "status": "completed"
    },
    "tags": []
   },
   "outputs": [],
   "source": [
    "a=[ 'Accent_r', 'Blues', 'Blues_r', 'BrBG', 'viridis', 'viridis_r', 'vlag', 'vlag_r', 'winter', 'winter_r','BrBG_r', 'BuGn', 'BuGn_r', 'afmhot', 'afmhot_r', 'autumn', 'autumn_r', 'binary', 'binary_r', 'bone', 'bone_r', 'brg', 'brg_r', 'bwr', 'crest_r']\n",
    "for label, cmap in zip(df['Category'].unique(), a):\n",
    "    text = df.query(\"Category == @label\")[\"Resume\"].str.cat(sep=\" \")\n",
    "    plt.figure(figsize=(10, 6))\n",
    "    wc = WordCloud(width=1000, height=600, background_color=\"#f8f8f8\", colormap=cmap)\n",
    "    wc.generate_from_text(text)\n",
    "    plt.imshow(wc)\n",
    "    plt.axis(\"off\")\n",
    "    plt.title(f\"Words Commonly Used in ${label}$ Resumes\", size=20)\n",
    "    plt.show()"
   ]
  },
  {
   "cell_type": "markdown",
   "id": "e8781ed3",
   "metadata": {
    "papermill": {
     "duration": 0.090403,
     "end_time": "2022-10-07T21:49:18.456160",
     "exception": false,
     "start_time": "2022-10-07T21:49:18.365757",
     "status": "completed"
    },
    "tags": []
   },
   "source": [
    "# Pre Processing"
   ]
  },
  {
   "cell_type": "markdown",
   "id": "8a12dff4",
   "metadata": {
    "papermill": {
     "duration": 0.087268,
     "end_time": "2022-10-07T21:49:18.630750",
     "exception": false,
     "start_time": "2022-10-07T21:49:18.543482",
     "status": "completed"
    },
    "tags": []
   },
   "source": [
    "# Checking for missing data"
   ]
  },
  {
   "cell_type": "code",
   "execution_count": null,
   "id": "0ebcd42e",
   "metadata": {
    "execution": {
     "iopub.execute_input": "2022-10-07T21:49:18.808522Z",
     "iopub.status.busy": "2022-10-07T21:49:18.806075Z",
     "iopub.status.idle": "2022-10-07T21:49:18.815930Z",
     "shell.execute_reply": "2022-10-07T21:49:18.814807Z"
    },
    "papermill": {
     "duration": 0.100863,
     "end_time": "2022-10-07T21:49:18.817924",
     "exception": false,
     "start_time": "2022-10-07T21:49:18.717061",
     "status": "completed"
    },
    "tags": []
   },
   "outputs": [],
   "source": [
    "print(df.isnull().sum())"
   ]
  },
  {
   "cell_type": "markdown",
   "id": "f2ce33db",
   "metadata": {
    "papermill": {
     "duration": 0.086655,
     "end_time": "2022-10-07T21:49:18.988718",
     "exception": false,
     "start_time": "2022-10-07T21:49:18.902063",
     "status": "completed"
    },
    "tags": []
   },
   "source": [
    "# Converting the data into lower case and removing words with small lengths"
   ]
  },
  {
   "cell_type": "code",
   "execution_count": null,
   "id": "2584afed",
   "metadata": {
    "execution": {
     "iopub.execute_input": "2022-10-07T21:49:19.164301Z",
     "iopub.status.busy": "2022-10-07T21:49:19.163499Z",
     "iopub.status.idle": "2022-10-07T21:49:19.609680Z",
     "shell.execute_reply": "2022-10-07T21:49:19.608768Z"
    },
    "papermill": {
     "duration": 0.536674,
     "end_time": "2022-10-07T21:49:19.611787",
     "exception": false,
     "start_time": "2022-10-07T21:49:19.075113",
     "status": "completed"
    },
    "tags": []
   },
   "outputs": [],
   "source": [
    "df['Resume'] = df['Resume'].apply(lambda x:x.lower())\n",
    "for i in range(len(df)):\n",
    "    lw=[]\n",
    "    for j in df['Resume'][i].split():\n",
    "        if len(j)>=3:                  \n",
    "            lw.append(j)\n",
    "    df['Resume'][i]=\" \".join(lw)"
   ]
  },
  {
   "cell_type": "markdown",
   "id": "856b6339",
   "metadata": {
    "papermill": {
     "duration": 0.087181,
     "end_time": "2022-10-07T21:49:19.784117",
     "exception": false,
     "start_time": "2022-10-07T21:49:19.696936",
     "status": "completed"
    },
    "tags": []
   },
   "source": [
    "# removing punctuations"
   ]
  },
  {
   "cell_type": "code",
   "execution_count": null,
   "id": "7e02b1d6",
   "metadata": {
    "execution": {
     "iopub.execute_input": "2022-10-07T21:49:19.963976Z",
     "iopub.status.busy": "2022-10-07T21:49:19.963410Z",
     "iopub.status.idle": "2022-10-07T21:49:19.989378Z",
     "shell.execute_reply": "2022-10-07T21:49:19.988298Z"
    },
    "papermill": {
     "duration": 0.121082,
     "end_time": "2022-10-07T21:49:19.992616",
     "exception": false,
     "start_time": "2022-10-07T21:49:19.871534",
     "status": "completed"
    },
    "tags": []
   },
   "outputs": [],
   "source": [
    "ps = list(\";?.:!,\")\n",
    "df['Resume'] = df['Resume']\n",
    "\n",
    "for p in ps:   \n",
    "    df['Resume'] = df['Resume'].str.replace(p, '')"
   ]
  },
  {
   "cell_type": "markdown",
   "id": "7786e15a",
   "metadata": {
    "papermill": {
     "duration": 0.091363,
     "end_time": "2022-10-07T21:49:20.173838",
     "exception": false,
     "start_time": "2022-10-07T21:49:20.082475",
     "status": "completed"
    },
    "tags": []
   },
   "source": [
    "# Removing '\\n' and '\\t', extra spaces, quoting text and progressive pronouns"
   ]
  },
  {
   "cell_type": "code",
   "execution_count": null,
   "id": "00a2c1f5",
   "metadata": {
    "execution": {
     "iopub.execute_input": "2022-10-07T21:49:20.367251Z",
     "iopub.status.busy": "2022-10-07T21:49:20.366428Z",
     "iopub.status.idle": "2022-10-07T21:49:20.386312Z",
     "shell.execute_reply": "2022-10-07T21:49:20.385253Z"
    },
    "papermill": {
     "duration": 0.12135,
     "end_time": "2022-10-07T21:49:20.388488",
     "exception": false,
     "start_time": "2022-10-07T21:49:20.267138",
     "status": "completed"
    },
    "tags": []
   },
   "outputs": [],
   "source": [
    "df['Resume'] = df['Resume'].str.replace(\"    \", \" \")\n",
    "df['Resume'] = df['Resume'].str.replace('\"', '')\n",
    "df['Resume'] = df['Resume'].apply(lambda x: x.replace('\\t', ' '))\n",
    "df['Resume'] = df['Resume'].str.replace(\"'s\", \"\")\n",
    "df['Resume'] = df['Resume'].apply(lambda x: x.replace('\\n', ' '))"
   ]
  },
  {
   "cell_type": "markdown",
   "id": "575d1d65",
   "metadata": {
    "papermill": {
     "duration": 0.090316,
     "end_time": "2022-10-07T21:49:20.568494",
     "exception": false,
     "start_time": "2022-10-07T21:49:20.478178",
     "status": "completed"
    },
    "tags": []
   },
   "source": [
    "# Applying Lemmatization"
   ]
  },
  {
   "cell_type": "code",
   "execution_count": null,
   "id": "2741b50d",
   "metadata": {
    "execution": {
     "iopub.execute_input": "2022-10-07T21:49:20.757580Z",
     "iopub.status.busy": "2022-10-07T21:49:20.757217Z",
     "iopub.status.idle": "2022-10-07T21:49:21.366627Z",
     "shell.execute_reply": "2022-10-07T21:49:21.365667Z"
    },
    "papermill": {
     "duration": 0.705189,
     "end_time": "2022-10-07T21:49:21.368787",
     "exception": false,
     "start_time": "2022-10-07T21:49:20.663598",
     "status": "completed"
    },
    "tags": []
   },
   "outputs": [],
   "source": [
    "nltk.download('punkt')\n",
    "nltk.download('wordnet')\n",
    "nltk.download('omw-1.4')"
   ]
  },
  {
   "cell_type": "code",
   "execution_count": null,
   "id": "de119306",
   "metadata": {
    "execution": {
     "iopub.execute_input": "2022-10-07T21:49:21.546694Z",
     "iopub.status.busy": "2022-10-07T21:49:21.546297Z",
     "iopub.status.idle": "2022-10-07T21:49:25.078784Z",
     "shell.execute_reply": "2022-10-07T21:49:25.077661Z"
    },
    "papermill": {
     "duration": 3.626548,
     "end_time": "2022-10-07T21:49:25.081902",
     "exception": false,
     "start_time": "2022-10-07T21:49:21.455354",
     "status": "completed"
    },
    "tags": []
   },
   "outputs": [],
   "source": [
    "wl = WordNetLemmatizer()\n",
    "nr = len(df)\n",
    "lis = []\n",
    "for r in range(0, nr):\n",
    "    ll = []\n",
    "    t = df.loc[r]['Resume']\n",
    "    tw = str(t).split(\" \")\n",
    "    for w in tw:\n",
    "        ll.append(wl.lemmatize(w, pos=\"v\"))\n",
    "    lt = \" \".join(ll)\n",
    "    lis.append(lt)"
   ]
  },
  {
   "cell_type": "code",
   "execution_count": null,
   "id": "caf624e6",
   "metadata": {
    "execution": {
     "iopub.execute_input": "2022-10-07T21:49:25.306389Z",
     "iopub.status.busy": "2022-10-07T21:49:25.306017Z",
     "iopub.status.idle": "2022-10-07T21:49:25.311475Z",
     "shell.execute_reply": "2022-10-07T21:49:25.310532Z"
    },
    "papermill": {
     "duration": 0.100213,
     "end_time": "2022-10-07T21:49:25.313562",
     "exception": false,
     "start_time": "2022-10-07T21:49:25.213349",
     "status": "completed"
    },
    "tags": []
   },
   "outputs": [],
   "source": [
    "df['Resume'] = lis"
   ]
  },
  {
   "cell_type": "markdown",
   "id": "dd81ce88",
   "metadata": {
    "papermill": {
     "duration": 0.088575,
     "end_time": "2022-10-07T21:49:25.486524",
     "exception": false,
     "start_time": "2022-10-07T21:49:25.397949",
     "status": "completed"
    },
    "tags": []
   },
   "source": [
    "# Removing Stop-words"
   ]
  },
  {
   "cell_type": "code",
   "execution_count": null,
   "id": "34f6b553",
   "metadata": {
    "execution": {
     "iopub.execute_input": "2022-10-07T21:49:25.662410Z",
     "iopub.status.busy": "2022-10-07T21:49:25.662017Z",
     "iopub.status.idle": "2022-10-07T21:49:25.674151Z",
     "shell.execute_reply": "2022-10-07T21:49:25.672376Z"
    },
    "papermill": {
     "duration": 0.103802,
     "end_time": "2022-10-07T21:49:25.676956",
     "exception": false,
     "start_time": "2022-10-07T21:49:25.573154",
     "status": "completed"
    },
    "tags": []
   },
   "outputs": [],
   "source": [
    "nltk.download('stopwords')"
   ]
  },
  {
   "cell_type": "code",
   "execution_count": null,
   "id": "0f675bf3",
   "metadata": {
    "execution": {
     "iopub.execute_input": "2022-10-07T21:49:25.858784Z",
     "iopub.status.busy": "2022-10-07T21:49:25.857902Z",
     "iopub.status.idle": "2022-10-07T21:49:35.357126Z",
     "shell.execute_reply": "2022-10-07T21:49:35.356143Z"
    },
    "papermill": {
     "duration": 9.594062,
     "end_time": "2022-10-07T21:49:35.359451",
     "exception": false,
     "start_time": "2022-10-07T21:49:25.765389",
     "status": "completed"
    },
    "tags": []
   },
   "outputs": [],
   "source": [
    "sw = list(stopwords.words('english'))\n",
    "for s in sw:\n",
    "    rs = r\"\\b\" + s + r\"\\b\"\n",
    "    df['Resume'] = df['Resume'].str.replace(rs, '')"
   ]
  },
  {
   "attachments": {},
   "cell_type": "markdown",
   "id": "8a1b3d85",
   "metadata": {
    "papermill": {
     "duration": 0.087239,
     "end_time": "2022-10-07T21:49:35.535807",
     "exception": false,
     "start_time": "2022-10-07T21:49:35.448568",
     "status": "completed"
    },
    "tags": []
   },
   "source": [
    "# Visualizing most commonly used words in Resumes after applying NLP techniques "
   ]
  },
  {
   "cell_type": "code",
   "execution_count": null,
   "id": "96e57710",
   "metadata": {
    "execution": {
     "iopub.execute_input": "2022-10-07T21:49:35.709476Z",
     "iopub.status.busy": "2022-10-07T21:49:35.708428Z",
     "iopub.status.idle": "2022-10-07T21:50:08.068410Z",
     "shell.execute_reply": "2022-10-07T21:50:08.067600Z"
    },
    "papermill": {
     "duration": 32.450756,
     "end_time": "2022-10-07T21:50:08.070973",
     "exception": false,
     "start_time": "2022-10-07T21:49:35.620217",
     "status": "completed"
    },
    "tags": []
   },
   "outputs": [],
   "source": [
    "a=[ 'Accent_r', 'Blues', 'Blues_r', 'BrBG', 'viridis', 'viridis_r', 'vlag', 'vlag_r', 'winter', 'winter_r','BrBG_r', 'BuGn', 'BuGn_r', 'afmhot', 'afmhot_r', 'autumn', 'autumn_r', 'binary', 'binary_r', 'bone', 'bone_r', 'brg', 'brg_r', 'bwr', 'crest_r','Accent_r', 'Blues', 'Blues_r', 'BrBG', 'viridis', 'viridis_r', 'vlag', 'vlag_r', 'winter', 'winter_r','BrBG_r', 'BuGn', 'BuGn_r', 'afmhot', 'afmhot_r', 'autumn', 'autumn_r', 'binary', 'binary_r', 'bone', 'bone_r', 'brg', 'brg_r', 'bwr']\n",
    "for label, cmap in zip(df['Category'].unique(), a):\n",
    "    text = df.query(\"Category == @label\")[\"Resume\"].str.cat(sep=\" \")\n",
    "    plt.figure(figsize=(10, 6))\n",
    "    wc = WordCloud(width=1000, height=600, background_color=\"#f8f8f8\", colormap=cmap)\n",
    "    wc.generate_from_text(text)\n",
    "    plt.imshow(wc)\n",
    "    plt.axis(\"off\")\n",
    "    plt.title(f\"Words Commonly Used in ${label}$ Resumes\", size=20)\n",
    "    plt.show()"
   ]
  },
  {
   "cell_type": "code",
   "execution_count": null,
   "id": "85443a46",
   "metadata": {},
   "outputs": [],
   "source": [
    "df.iloc[1,1]"
   ]
  },
  {
   "cell_type": "markdown",
   "id": "f0b2ef91",
   "metadata": {
    "papermill": {
     "duration": 0.167424,
     "end_time": "2022-10-07T21:50:08.409735",
     "exception": false,
     "start_time": "2022-10-07T21:50:08.242311",
     "status": "completed"
    },
    "tags": []
   },
   "source": [
    "# Data Preparation for Training and Testing"
   ]
  },
  {
   "cell_type": "markdown",
   "id": "5a9bf78b",
   "metadata": {
    "papermill": {
     "duration": 0.161481,
     "end_time": "2022-10-07T21:50:08.735054",
     "exception": false,
     "start_time": "2022-10-07T21:50:08.573573",
     "status": "completed"
    },
    "tags": []
   },
   "source": [
    "# Encoding Labels"
   ]
  },
  {
   "cell_type": "code",
   "execution_count": null,
   "id": "c0d73e20",
   "metadata": {
    "execution": {
     "iopub.execute_input": "2022-10-07T21:50:09.061375Z",
     "iopub.status.busy": "2022-10-07T21:50:09.060774Z",
     "iopub.status.idle": "2022-10-07T21:50:09.068695Z",
     "shell.execute_reply": "2022-10-07T21:50:09.067633Z"
    },
    "papermill": {
     "duration": 0.173251,
     "end_time": "2022-10-07T21:50:09.070531",
     "exception": false,
     "start_time": "2022-10-07T21:50:08.897280",
     "status": "completed"
    },
    "tags": []
   },
   "outputs": [],
   "source": [
    "c = LabelEncoder()\n",
    "df['Category'] = c.fit_transform(df['Category'])\n",
    "le_name_mapping = dict(zip( c.transform(c.classes_),c.classes_))\n",
    "print(le_name_mapping)"
   ]
  },
  {
   "attachments": {},
   "cell_type": "markdown",
   "id": "ca1c3277",
   "metadata": {
    "papermill": {
     "duration": 0.161631,
     "end_time": "2022-10-07T21:50:09.391142",
     "exception": false,
     "start_time": "2022-10-07T21:50:09.229511",
     "status": "completed"
    },
    "tags": []
   },
   "source": [
    "# Using TFIDF approach for converting the content in Resumes into vector form"
   ]
  },
  {
   "cell_type": "code",
   "execution_count": null,
   "id": "fa44e60a",
   "metadata": {
    "execution": {
     "iopub.execute_input": "2022-10-07T21:50:09.720037Z",
     "iopub.status.busy": "2022-10-07T21:50:09.719423Z",
     "iopub.status.idle": "2022-10-07T21:50:09.935353Z",
     "shell.execute_reply": "2022-10-07T21:50:09.934408Z"
    },
    "papermill": {
     "duration": 0.382773,
     "end_time": "2022-10-07T21:50:09.937661",
     "exception": false,
     "start_time": "2022-10-07T21:50:09.554888",
     "status": "completed"
    },
    "tags": []
   },
   "outputs": [],
   "source": [
    "from sklearn.feature_extraction.text import TfidfVectorizer\n",
    "cv = TfidfVectorizer(max_features=20000)\n",
    "X = cv.fit_transform(df['Resume'])\n",
    "y = df['Category']"
   ]
  },
  {
   "cell_type": "code",
   "execution_count": null,
   "id": "62f383e2",
   "metadata": {},
   "outputs": [],
   "source": [
    "a = cv.get_feature_names_out()"
   ]
  },
  {
   "cell_type": "code",
   "execution_count": null,
   "id": "8ee906b6",
   "metadata": {},
   "outputs": [],
   "source": [
    "import pickle\n",
    "filename = 'cv.pickle'\n",
    "#pickle.dump('cv.pickle',a)\n",
    "#pickle.dump(cv, open(filename, 'wb'))"
   ]
  },
  {
   "cell_type": "code",
   "execution_count": null,
   "id": "3abda514",
   "metadata": {},
   "outputs": [],
   "source": [
    "X.shape,y.shape"
   ]
  },
  {
   "cell_type": "code",
   "execution_count": null,
   "id": "8275d5bc",
   "metadata": {},
   "outputs": [],
   "source": [
    "from imblearn.combine import SMOTETomek\n",
    "from imblearn.under_sampling import NearMiss\n",
    "smk = SMOTETomek(random_state=42)\n",
    "X_res,y_res=smk.fit_resample(X,df['Category'])"
   ]
  },
  {
   "cell_type": "code",
   "execution_count": null,
   "id": "6b63c008",
   "metadata": {},
   "outputs": [],
   "source": [
    "X_res.shape,y_res.shape"
   ]
  },
  {
   "cell_type": "markdown",
   "id": "a07521c1",
   "metadata": {
    "papermill": {
     "duration": 0.161575,
     "end_time": "2022-10-07T21:50:10.258046",
     "exception": false,
     "start_time": "2022-10-07T21:50:10.096471",
     "status": "completed"
    },
    "tags": []
   },
   "source": [
    "# Splitting the Data using Stratified split"
   ]
  },
  {
   "cell_type": "code",
   "execution_count": null,
   "id": "89638f99",
   "metadata": {
    "execution": {
     "iopub.execute_input": "2022-10-07T21:50:10.590804Z",
     "iopub.status.busy": "2022-10-07T21:50:10.590001Z",
     "iopub.status.idle": "2022-10-07T21:50:10.608462Z",
     "shell.execute_reply": "2022-10-07T21:50:10.607527Z"
    },
    "papermill": {
     "duration": 0.189023,
     "end_time": "2022-10-07T21:50:10.610882",
     "exception": false,
     "start_time": "2022-10-07T21:50:10.421859",
     "status": "completed"
    },
    "tags": []
   },
   "outputs": [],
   "source": [
    "X_train, X_test, y_train, y_test = train_test_split(X_res, y_res, test_size = 0.25, stratify=y_res, random_state = 42)"
   ]
  },
  {
   "cell_type": "code",
   "execution_count": null,
   "id": "c3fd5f6d",
   "metadata": {},
   "outputs": [],
   "source": [
    "X_train.shape,y_train.shape"
   ]
  },
  {
   "cell_type": "code",
   "execution_count": null,
   "id": "b15a7ddc",
   "metadata": {
    "execution": {
     "iopub.execute_input": "2022-10-07T21:50:10.934637Z",
     "iopub.status.busy": "2022-10-07T21:50:10.934252Z",
     "iopub.status.idle": "2022-10-07T21:50:10.946523Z",
     "shell.execute_reply": "2022-10-07T21:50:10.945646Z"
    },
    "papermill": {
     "duration": 0.178803,
     "end_time": "2022-10-07T21:50:10.948704",
     "exception": false,
     "start_time": "2022-10-07T21:50:10.769901",
     "status": "completed"
    },
    "tags": []
   },
   "outputs": [],
   "source": [
    "def plot_confusion_matrix(cm, classes,\n",
    "                          normalize=False,\n",
    "                          title='Confusion matrix',\n",
    "                              cmap=plt.cm.Greens):\n",
    "    plt.figure(figsize=(50, 20), dpi=130)\n",
    "    plt.imshow(cm, interpolation='nearest', cmap=cmap)\n",
    "    plt.title(title)\n",
    "    plt.colorbar()\n",
    "    tick_marks = np.arange(len(classes))\n",
    "    plt.xticks(tick_marks, classes, rotation=45)\n",
    "    plt.yticks(tick_marks, classes)\n",
    "\n",
    "    if normalize:\n",
    "        cm = cm.astype('float') / cm.sum(axis=1)[:, np.newaxis]\n",
    "\n",
    "    thresh = cm.max() / 2.\n",
    "    for i, j in itertools.product(range(cm.shape[0]), range(cm.shape[1])):\n",
    "        plt.text(j, i, cm[i, j],\n",
    "                 horizontalalignment=\"center\",\n",
    "                 color=\"white\" if cm[i, j] > thresh else \"black\")\n",
    "\n",
    "    plt.tight_layout()\n",
    "    plt.ylabel('True label')\n",
    "    plt.xlabel('Predicted label')"
   ]
  },
  {
   "cell_type": "code",
   "execution_count": null,
   "id": "7ace0879",
   "metadata": {},
   "outputs": [],
   "source": [
    "print(X_test[0].shape)"
   ]
  },
  {
   "cell_type": "markdown",
   "id": "ddb8ef4e",
   "metadata": {
    "papermill": {
     "duration": 0.16398,
     "end_time": "2022-10-07T21:50:16.854357",
     "exception": false,
     "start_time": "2022-10-07T21:50:16.690377",
     "status": "completed"
    },
    "tags": []
   },
   "source": [
    "# Using KNeighbors Classifier as the Model and printing evaluating it using confusion matrix"
   ]
  },
  {
   "cell_type": "code",
   "execution_count": null,
   "id": "3f86e804",
   "metadata": {},
   "outputs": [],
   "source": [
    "from sklearn.neighbors import KNeighborsClassifier\n",
    "from sklearn.model_selection import GridSearchCV\n",
    "model1=KNeighborsClassifier()\n",
    "clf1=GridSearchCV(model1,{'n_neighbors':[1,2,3,4,5,6,7,8,9,10]})\n",
    "clf1.fit(X_res,y_res)\n",
    "clf1.cv_results_"
   ]
  },
  {
   "cell_type": "code",
   "execution_count": null,
   "id": "549527c8",
   "metadata": {},
   "outputs": [],
   "source": [
    "pd1=pd.DataFrame(clf1.cv_results_)\n",
    "pd1.to_csv('Knn.csv')"
   ]
  },
  {
   "cell_type": "code",
   "execution_count": null,
   "id": "9028c115",
   "metadata": {
    "execution": {
     "iopub.execute_input": "2022-10-07T21:50:17.182290Z",
     "iopub.status.busy": "2022-10-07T21:50:17.181661Z",
     "iopub.status.idle": "2022-10-07T21:50:21.226876Z",
     "shell.execute_reply": "2022-10-07T21:50:21.225941Z"
    },
    "papermill": {
     "duration": 4.212755,
     "end_time": "2022-10-07T21:50:21.229049",
     "exception": false,
     "start_time": "2022-10-07T21:50:17.016294",
     "status": "completed"
    },
    "tags": []
   },
   "outputs": [],
   "source": [
    "clf1 = KNeighborsClassifier(n_neighbors=1)\n",
    "clf1 = clf1.fit(X_train, y_train)\n",
    "yp = clf1.predict(X_test)\n",
    "acc = accuracy_score(y_test, yp)\n",
    "print(\"accuracy is: \",acc)\n"
   ]
  },
  {
   "cell_type": "code",
   "execution_count": null,
   "id": "8f394525",
   "metadata": {},
   "outputs": [],
   "source": [
    "yc = clf1.predict(X_res)\n",
    "CM = confusion_matrix(y_res, yc)\n",
    "plot_confusion_matrix(CM, classes = range(48),cmap=plt.cm.Blues)\n",
    "#dump(clf1, 'knei.joblib') "
   ]
  },
  {
   "cell_type": "code",
   "execution_count": null,
   "id": "4b92749c",
   "metadata": {},
   "outputs": [],
   "source": [
    "from sklearn.metrics import precision_recall_fscore_support\n",
    "s1 = precision_recall_fscore_support(y_res, yc,average='weighted')\n",
    "s1"
   ]
  },
  {
   "cell_type": "markdown",
   "id": "529fccf6",
   "metadata": {
    "papermill": {
     "duration": 0.162661,
     "end_time": "2022-10-07T21:50:21.566553",
     "exception": false,
     "start_time": "2022-10-07T21:50:21.403892",
     "status": "completed"
    },
    "tags": []
   },
   "source": [
    "# Using Decision tree as the Model and printing evaluating it using confusion matrix"
   ]
  },
  {
   "cell_type": "code",
   "execution_count": null,
   "id": "6fbf1243",
   "metadata": {},
   "outputs": [],
   "source": [
    "from sklearn.tree import DecisionTreeClassifier\n",
    "model2=DecisionTreeClassifier()\n",
    "clf2=GridSearchCV(model2,{'max_depth':[10,20,30,40,50,60,70,80,90,100]},cv=5)\n",
    "clf2.fit(X_res,y_res)\n",
    "clf2.cv_results_"
   ]
  },
  {
   "cell_type": "code",
   "execution_count": null,
   "id": "489eb8ef",
   "metadata": {},
   "outputs": [],
   "source": [
    "pd2=pd.DataFrame(clf2.cv_results_)\n",
    "pd2.to_csv('DT.csv')"
   ]
  },
  {
   "cell_type": "code",
   "execution_count": null,
   "id": "bfb6aeff",
   "metadata": {
    "execution": {
     "iopub.execute_input": "2022-10-07T21:50:21.898650Z",
     "iopub.status.busy": "2022-10-07T21:50:21.898104Z",
     "iopub.status.idle": "2022-10-07T21:50:26.002619Z",
     "shell.execute_reply": "2022-10-07T21:50:26.001558Z"
    },
    "papermill": {
     "duration": 4.274038,
     "end_time": "2022-10-07T21:50:26.005125",
     "exception": false,
     "start_time": "2022-10-07T21:50:21.731087",
     "status": "completed"
    },
    "tags": []
   },
   "outputs": [],
   "source": [
    "clf2 = tree.DecisionTreeClassifier(max_depth=100)\n",
    "clf2 = clf2.fit(X_train, y_train)\n",
    "yp = clf2.predict(X_test)\n",
    "acc = accuracy_score(y_test, yp)\n",
    "print(\"accuracy is: \",acc)\n",
    "CM = confusion_matrix(y_test, yp)\n",
    "plot_confusion_matrix(CM, classes = range(48))\n",
    "dump(clf2, 'DT.joblib') "
   ]
  },
  {
   "cell_type": "code",
   "execution_count": null,
   "id": "7e684297",
   "metadata": {},
   "outputs": [],
   "source": [
    "yp2 = clf2.predict(X_res)"
   ]
  },
  {
   "cell_type": "code",
   "execution_count": null,
   "id": "c9141340",
   "metadata": {},
   "outputs": [],
   "source": [
    "from sklearn.metrics import precision_recall_fscore_support\n",
    "s2 = precision_recall_fscore_support(y_res, yp2,average='weighted')\n",
    "s2"
   ]
  },
  {
   "cell_type": "code",
   "execution_count": null,
   "id": "71bdc3ec",
   "metadata": {},
   "outputs": [],
   "source": [
    "from sklearn.ensemble import RandomForestClassifier\n",
    "model3=RandomForestClassifier()\n",
    "clf3=GridSearchCV(model3,{'n_estimators':[10,50,100,300,500]},cv=5)\n",
    "clf3.fit(X_res,y_res)"
   ]
  },
  {
   "cell_type": "code",
   "execution_count": null,
   "id": "9952a95d",
   "metadata": {},
   "outputs": [],
   "source": [
    "clf3.best_estimator_"
   ]
  },
  {
   "cell_type": "code",
   "execution_count": null,
   "id": "370ffd9b",
   "metadata": {},
   "outputs": [],
   "source": [
    "pd3=pd.DataFrame(clf3.cv_results_)\n",
    "pd3.to_csv('RF.csv')"
   ]
  },
  {
   "cell_type": "code",
   "execution_count": null,
   "id": "34a8416f",
   "metadata": {},
   "outputs": [],
   "source": [
    "clf4=RandomForestClassifier(n_estimators = 500)\n",
    "clf4 = clf4.fit(X_train, y_train)\n",
    "yp = clf4.predict(X_test)\n",
    "acc = accuracy_score(y_test, yp)\n",
    "print(\"accuracy is: \",acc)\n",
    "dump(clf4, 'RF.joblib') "
   ]
  },
  {
   "cell_type": "code",
   "execution_count": null,
   "id": "f52d748c",
   "metadata": {},
   "outputs": [],
   "source": [
    "yp4 = clf4.predict(X_res)\n",
    "CM = confusion_matrix(y_res, yp4)\n",
    "plot_confusion_matrix(CM, classes = range(48))"
   ]
  },
  {
   "cell_type": "code",
   "execution_count": null,
   "id": "653b1039",
   "metadata": {},
   "outputs": [],
   "source": [
    "from sklearn.metrics import precision_recall_fscore_support\n",
    "s3 = precision_recall_fscore_support(y_res, yp4,average='weighted')\n",
    "s3"
   ]
  },
  {
   "cell_type": "code",
   "execution_count": null,
   "id": "2eb3fa8d",
   "metadata": {},
   "outputs": [],
   "source": [
    "from sklearn.svm import SVC\n",
    "model4=SVC()\n",
    "clf4 = GridSearchCV(model4,{'C':[0.01,0.1,0.5,1],'kernel':['linear','poly','rbf','sigmoid']})\n",
    "clf4.fit(X_res,y_res)\n",
    "clf4.cv_results_"
   ]
  },
  {
   "cell_type": "code",
   "execution_count": null,
   "id": "7e8d2183",
   "metadata": {},
   "outputs": [],
   "source": [
    "pd4=pd.DataFrame(clf4.cv_results_)\n",
    "pd4.to_csv('SVC.csv')"
   ]
  },
  {
   "cell_type": "code",
   "execution_count": null,
   "id": "3c5267d6",
   "metadata": {},
   "outputs": [],
   "source": [
    "clf4.best_params_"
   ]
  },
  {
   "cell_type": "code",
   "execution_count": null,
   "id": "81f44777",
   "metadata": {},
   "outputs": [],
   "source": [
    "\n",
    "clf3=SVC(C=1, kernel= 'rbf')\n",
    "clf3 = clf3.fit(X_train, y_train)\n",
    "yp = clf3.predict(X_test)\n",
    "acc = accuracy_score(y_test, yp)\n",
    "print(\"accuracy is: \",acc)\n",
    "dump(clf3, 'SVC.joblib') \n",
    "\n"
   ]
  },
  {
   "cell_type": "code",
   "execution_count": null,
   "id": "f149b3f5",
   "metadata": {},
   "outputs": [],
   "source": [
    "yp3 = clf3.predict(X_res)\n",
    "CM = confusion_matrix(y_res, yp3)\n",
    "plot_confusion_matrix(CM, classes = range(48))"
   ]
  },
  {
   "cell_type": "code",
   "execution_count": null,
   "id": "29c6edb4",
   "metadata": {},
   "outputs": [],
   "source": [
    "from sklearn.metrics import precision_recall_fscore_support\n",
    "s4 = precision_recall_fscore_support(y_res, yp3,average='weighted')\n",
    "s4"
   ]
  },
  {
   "cell_type": "code",
   "execution_count": null,
   "id": "a2ff022c",
   "metadata": {},
   "outputs": [],
   "source": [
    "import xgboost as xgb\n",
    "xgb_classifier = xgb.XGBClassifier()\n",
    "xgb_classifier.fit(X_train,y_train)\n",
    "predictions = xgb_classifier.predict(X_test)\n",
    "print(\"Accuracy of Model::\",accuracy_score(y_test,predictions))"
   ]
  }
 ],
 "metadata": {
  "kernelspec": {
   "display_name": "Python 3",
   "language": "python",
   "name": "python3"
  },
  "language_info": {
   "codemirror_mode": {
    "name": "ipython",
    "version": 3
   },
   "file_extension": ".py",
   "mimetype": "text/x-python",
   "name": "python",
   "nbconvert_exporter": "python",
   "pygments_lexer": "ipython3",
   "version": "3.10.9"
  },
  "papermill": {
   "default_parameters": {},
   "duration": 200.577061,
   "end_time": "2022-10-07T21:51:49.455056",
   "environment_variables": {},
   "exception": null,
   "input_path": "__notebook__.ipynb",
   "output_path": "__notebook__.ipynb",
   "parameters": {},
   "start_time": "2022-10-07T21:48:28.877995",
   "version": "2.3.4"
  },
  "vscode": {
   "interpreter": {
    "hash": "41c1734067aa393b225342e365fd2d22721397f6879789dc7e42f6d55f31919e"
   }
  }
 },
 "nbformat": 4,
 "nbformat_minor": 5
}
